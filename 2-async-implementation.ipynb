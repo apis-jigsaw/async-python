{
 "cells": [
  {
   "cell_type": "markdown",
   "metadata": {},
   "source": [
    "# Async Implementation"
   ]
  },
  {
   "cell_type": "markdown",
   "metadata": {},
   "source": [
    "### Introduction\n",
    "\n",
    "In the last section, we saw the benefits of working with asynchronous programming.  Essentially, we can release our Python thread from waiting and have it move onto other tasks.  We did so by implementing a coroutine in Python -- which we'll explain in more detail below.  \n",
    "\n",
    "In this section, we'll move through the steps of implementing code with asynchronous programming.  Let's get started."
   ]
  },
  {
   "cell_type": "markdown",
   "metadata": {},
   "source": [
    "### Back to our problem"
   ]
  },
  {
   "cell_type": "markdown",
   "metadata": {},
   "source": [
    "Remember that traditionally our code move sequentially, one subroutine at a time.  So for example, given the code below, first the entire `call_foursquare_api` function is completed, and then the `call_spotify_api` call is completed."
   ]
  },
  {
   "cell_type": "code",
   "execution_count": null,
   "metadata": {},
   "outputs": [],
   "source": [
    "import time\n",
    "def call_foursquare_api():\n",
    "    print(\"foursquare call started\")\n",
    "    time.sleep(2)\n",
    "    print(\"foursquare call finished\")\n",
    "    \n",
    "def call_spotify_api():\n",
    "    print(\"spotify call started\")\n",
    "    time.sleep(1)\n",
    "    print(\"spotify call finished\")\n",
    "    \n",
    "call_foursquare_api()\n",
    "call_spotify_api()"
   ]
  },
  {
   "cell_type": "markdown",
   "metadata": {},
   "source": [
    "As we explained in the last lesson, we'll want to move to an asynchronous style, so that we can get begin making the spotify api call without waiting for the foursquare_api call to complete.  Before getting into the syntax, let's explain a bit about how asynchronous programming works.  \n",
    "\n",
    "With *synchronous* programming, as we know our program flows sequentially.  And we can see this in the diagram below.  However, with asynchronous programming our programs don't necessarily run one after another, but instead instead our process goes in a circle checking in on each function running it when it's ready.  This is called an event loop.  "
   ]
  },
  {
   "cell_type": "markdown",
   "metadata": {},
   "source": [
    "<img src=\"./event-loop.png\" width=\"20%\">"
   ]
  },
  {
   "cell_type": "markdown",
   "metadata": {},
   "source": [
    "And you can think of the event loop like a restaurant server that checks in on each of her tables, taking the table's order when the table is ready.  Ok, now let's begin to see the implementation.\n",
    "\n",
    "> Start reading at the very bottom, with the line `asyncio.run(main())`."
   ]
  },
  {
   "cell_type": "code",
   "execution_count": null,
   "metadata": {},
   "outputs": [],
   "source": [
    "import asyncio\n",
    "import time\n",
    "\n",
    "async def call_foursquare_api():\n",
    "    print(\"foursquare call started\")\n",
    "    await asyncio.sleep(2)\n",
    "    print(\"foursquare call finished\")\n",
    "    \n",
    "async def call_spotify_api():\n",
    "    print(\"spotify call started\")\n",
    "    await asyncio.sleep(1)\n",
    "    print(\"spotify call finished\")\n",
    "    \n",
    "\n",
    "async def main():\n",
    "    await asyncio.gather(call_foursquare_api(), call_spotify_api())\n",
    "\n",
    "if __name__ == \"__main__\":\n",
    "    asyncio.run(main()) # 1. begin the event loop"
   ]
  },
  {
   "cell_type": "markdown",
   "metadata": {},
   "source": [
    "Ok, so the `asyncio.run()` function is what begins the event loop.  This is what changes our python thread from running procedures one after the other, to an event loop where our thread operates like a restaurant server that checks in on various tables.\n",
    "\n",
    "How does our event loop know which functions it needs to check in on?  Well we can see in the main function that we call two different functions with `asyncio.gather(call_foursquare_api(), call_spotify_api())`.  We can provide either asynchronous or synchronous functions to `gather` (which we'll revisit later), and this just gather call just tells the event loop to check in on these functions in that order."
   ]
  },
  {
   "cell_type": "markdown",
   "metadata": {},
   "source": [
    "<img src=\"./updated-loop.png\" width=\"35%\">"
   ]
  },
  {
   "cell_type": "markdown",
   "metadata": {},
   "source": [
    "Ok, so let's look at the code again, this time focusing on single asynchronous function like `call_foursquare_api`."
   ]
  },
  {
   "cell_type": "code",
   "execution_count": null,
   "metadata": {},
   "outputs": [],
   "source": [
    "import asyncio\n",
    "import time\n",
    "\n",
    "async def call_foursquare_api():\n",
    "    print(\"foursquare call started\")\n",
    "    await asyncio.sleep(2)\n",
    "    print(\"foursquare call finished\")\n",
    "    \n",
    "async def main():\n",
    "    await asyncio.gather(call_foursquare_api())\n",
    "\n",
    "if __name__ == \"__main__\":\n",
    "    asyncio.run(main()) # 1. begin the event loop"
   ]
  },
  {
   "cell_type": "markdown",
   "metadata": {},
   "source": [
    "There are two new keywords here.  The first is the word `async`.   This tells the event loop that the function does not need to be completed beginning to end -- but rather the function is a coroutine.  The second is the word await.  We need the await because we do want to the asynchronous procedure of sleeping to be complete before the event loop can then print the lines `foursquare_call_finished`.  And while it's waiting, the `await` allows the event loop to check in on other functions.  \n",
    "\n",
    "So in programming speak, the thread runs the each function, and then once the `await` is reached the thread is yielded back to the event loop to see what other work can be accomplished.  The event loop pauses the execution of of the function, and schedules it to resume after the pause is complete."
   ]
  },
  {
   "cell_type": "markdown",
   "metadata": {},
   "source": [
    "### The gather function"
   ]
  },
  {
   "cell_type": "markdown",
   "metadata": {},
   "source": [
    "The last item to talk about is the `asyncio.gather` function.  This function makes sure that all of the functions that are passed into gather are completed before the rest of the code is run.\n",
    "\n",
    "So, in the example below, `done everything` won't be printed until both the `call_foursquare_api` and `call_spotify_api` functions are completed."
   ]
  },
  {
   "cell_type": "code",
   "execution_count": null,
   "metadata": {},
   "outputs": [],
   "source": [
    "import asyncio\n",
    "import time\n",
    "\n",
    "async def call_foursquare_api():\n",
    "    print(\"foursquare call started\")\n",
    "    await asyncio.sleep(2)\n",
    "    print(\"foursquare call finished\")\n",
    "    \n",
    "async def call_spotify_api(): # 3. \n",
    "    print(\"spotify call started\")\n",
    "    await asyncio.sleep(1) #4. \n",
    "    print(\"spotify call finished\") # 5. \n",
    "    \n",
    "\n",
    "async def main():\n",
    "    await asyncio.gather(call_foursquare_api(), call_spotify_api()) # 2. \n",
    "    print('done everything')\n",
    "\n",
    "asyncio.run(main()) # 1. "
   ]
  },
  {
   "attachments": {},
   "cell_type": "markdown",
   "metadata": {},
   "source": [
    "Ok, now look over the above code, and check that you can explain each of the steps.  We demarcated them for you, so that you can explain them in order."
   ]
  },
  {
   "cell_type": "markdown",
   "metadata": {},
   "source": [
    "### Summary"
   ]
  },
  {
   "cell_type": "markdown",
   "metadata": {},
   "source": [
    "Ok, now let's show you our annotations of the code above.  Really try to verify that this makes sense to you.  "
   ]
  },
  {
   "cell_type": "code",
   "execution_count": null,
   "metadata": {},
   "outputs": [],
   "source": [
    "import asyncio\n",
    "import time\n",
    "\n",
    "async def call_foursquare_api():\n",
    "    print(\"foursquare call started\")\n",
    "    await asyncio.sleep(2)\n",
    "    print(\"foursquare call finished\")\n",
    "    \n",
    "async def call_spotify_api(): # 3. Co routine that can be paused, and resumed by event loop\n",
    "    print(\"spotify call started\")\n",
    "    await asyncio.sleep(1) #4. While sleeping event loop looks for other tasks to continue with\n",
    "    print(\"spotify call finished\") # 5. Resumed when ready\n",
    "    \n",
    "\n",
    "async def main():\n",
    "    await asyncio.gather(call_foursquare_api(), call_spotify_api()) # 2. Call each function in order, \n",
    "    # and only continue when all calls are complete.  Begin with foursquare call. \n",
    "    print('done everything')\n",
    "\n",
    "asyncio.run(main()) # 1. Begin event loop, and return to async programming when complete. "
   ]
  }
 ],
 "metadata": {
  "kernelspec": {
   "display_name": "Python 3 (ipykernel)",
   "language": "python",
   "name": "python3"
  },
  "language_info": {
   "codemirror_mode": {
    "name": "ipython",
    "version": 3
   },
   "file_extension": ".py",
   "mimetype": "text/x-python",
   "name": "python",
   "nbconvert_exporter": "python",
   "pygments_lexer": "ipython3",
   "version": "3.11.2"
  }
 },
 "nbformat": 4,
 "nbformat_minor": 4
}
