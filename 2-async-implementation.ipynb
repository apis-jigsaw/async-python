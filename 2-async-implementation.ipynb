{
 "cells": [
  {
   "attachments": {},
   "cell_type": "markdown",
   "metadata": {},
   "source": [
    "# Async Implementation"
   ]
  },
  {
   "attachments": {},
   "cell_type": "markdown",
   "metadata": {},
   "source": [
    "### Introduction\n",
    "\n",
    "In the last section, we saw the benefits of working with asynchronous programming.  Essentially, we can release our Python thread from waiting and have it move onto other tasks.  We did so by implementing a coroutine in Python -- which we'll explain in more detail below.  \n",
    "\n",
    "In this section, we'll move through the steps of implementing code with asynchronous programming.  Let's get started."
   ]
  },
  {
   "attachments": {},
   "cell_type": "markdown",
   "metadata": {},
   "source": [
    "### Back to our problem"
   ]
  },
  {
   "attachments": {},
   "cell_type": "markdown",
   "metadata": {},
   "source": [
    "Remember that traditionally our code move sequentially, one subroutine at a time.  So for example, given the code below, first the entire `call_foursquare_api` function is completed, and then the `call_spotify_api` call is completed."
   ]
  },
  {
   "cell_type": "code",
   "execution_count": null,
   "metadata": {},
   "outputs": [],
   "source": [
    "import time\n",
    "def call_foursquare_api():\n",
    "    print(\"foursquare call started\")\n",
    "    time.sleep(2)\n",
    "    print(\"foursquare call finished\")\n",
    "    \n",
    "def call_spotify_api():\n",
    "    print(\"spotify call started\")\n",
    "    time.sleep(1)\n",
    "    print(\"spotify call finished\")\n",
    "    \n",
    "call_foursquare_api()\n",
    "call_spotify_api()"
   ]
  },
  {
   "attachments": {},
   "cell_type": "markdown",
   "metadata": {},
   "source": [
    "As we explained in the last lesson, we'll want to move to an asynchronous style, so that we can get begin making the spotify api call without waiting for the foursquare_api call to complete.  Before getting into the syntax, let's explain a bit about how "
   ]
  },
  {
   "attachments": {},
   "cell_type": "markdown",
   "metadata": {},
   "source": [
    "<img src=\"./event-loop.png\" width=\"20%\">"
   ]
  },
  {
   "cell_type": "code",
   "execution_count": null,
   "metadata": {},
   "outputs": [],
   "source": [
    "import asyncio\n",
    "\n",
    "def call_foursquare_api():\n",
    "    print(\"foursquare call started\")\n",
    "    time.sleep(2)\n",
    "    print(\"foursquare call finished\")\n",
    "    \n",
    "def call_spotify_api():\n",
    "    print(\"spotify call started\")\n",
    "    time.sleep(1)\n",
    "    print(\"spotify call finished\")\n",
    "    \n",
    "\n",
    "def main():\n",
    "    asyncio.gather(call_foursquare_api(), call_spotify_api())\n",
    "\n",
    "if __name__ == \"__main__\":\n",
    "    asyncio.run(main())"
   ]
  }
 ],
 "metadata": {
  "kernelspec": {
   "display_name": "Python 3",
   "language": "python",
   "name": "python3"
  },
  "language_info": {
   "name": "python",
   "version": "3.11.2"
  },
  "orig_nbformat": 4
 },
 "nbformat": 4,
 "nbformat_minor": 2
}
