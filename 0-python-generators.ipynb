{
 "cells": [
  {
   "cell_type": "code",
   "execution_count": null,
   "id": "469a23ea-9a15-4c56-a811-7c2bc8f576d2",
   "metadata": {},
   "outputs": [],
   "source": []
  },
  {
   "cell_type": "code",
   "execution_count": null,
   "id": "740407aa-0e55-4db1-bfce-856ae239504e",
   "metadata": {},
   "outputs": [],
   "source": []
  },
  {
   "cell_type": "code",
   "execution_count": null,
   "id": "99d43af1-24d9-4628-b135-22acc081282d",
   "metadata": {},
   "outputs": [],
   "source": []
  },
  {
   "cell_type": "markdown",
   "id": "10858420-e4ed-4203-9552-3f5e01bd7d75",
   "metadata": {},
   "source": [
    "### Resources\n",
    "[python generators](https://www.youtube.com/watch?v=ixiRkUwPI2A&ab_channel=PyCon2019)"
   ]
  },
  {
   "cell_type": "code",
   "execution_count": null,
   "id": "4558bdd3-aaa0-4fa2-8216-3294305bf0de",
   "metadata": {},
   "outputs": [],
   "source": []
  }
 ],
 "metadata": {
  "kernelspec": {
   "display_name": "Python 3 (ipykernel)",
   "language": "python",
   "name": "python3"
  },
  "language_info": {
   "codemirror_mode": {
    "name": "ipython",
    "version": 3
   },
   "file_extension": ".py",
   "mimetype": "text/x-python",
   "name": "python",
   "nbconvert_exporter": "python",
   "pygments_lexer": "ipython3",
   "version": "3.9.12"
  }
 },
 "nbformat": 4,
 "nbformat_minor": 5
}
