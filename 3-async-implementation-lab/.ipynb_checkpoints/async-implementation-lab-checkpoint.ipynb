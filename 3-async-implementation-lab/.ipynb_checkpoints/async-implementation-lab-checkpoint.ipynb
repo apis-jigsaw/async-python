{
 "cells": [
  {
   "cell_type": "markdown",
   "id": "9bf1924c",
   "metadata": {},
   "source": [
    "# Asynch Implementation Lab"
   ]
  },
  {
   "cell_type": "markdown",
   "id": "f9b54dfa",
   "metadata": {},
   "source": [
    "### Introduction"
   ]
  },
  {
   "cell_type": "markdown",
   "id": "2838a0ff",
   "metadata": {},
   "source": [
    "In this lesson, we'll use asynchronous programming to mimic a multiplayer chess game.  "
   ]
  },
  {
   "cell_type": "markdown",
   "id": "918271f5",
   "metadata": {},
   "source": [
    "### But first, an analogy"
   ]
  },
  {
   "cell_type": "markdown",
   "id": "aa22b2e5",
   "metadata": {},
   "source": [
    "<img src=\"https://i.ytimg.com/vi/G0OsxzyPoKc/maxresdefault.jpg\" width=\"40%\">\n",
    "\n",
    "> The below analogy is shamelessly taken from Miguel Grinberg's 2017 Pycon talk. "
   ]
  },
  {
   "cell_type": "markdown",
   "id": "7900756c",
   "metadata": {},
   "source": [
    "The above is a picture of Larry Christiansen, a grandmaster in chess at Boston's south station train station.  You can see that he is playing multiple players at once, and the idea is that by him playing multiple players at once, many novice players can get to play a grandmaster.  It works because it only takes say five seconds for Larry to look at the board and make a move, and while his opponent is taking say a minute to figure out the next move he can move onto the next board.  \n",
    "\n",
    "This is an asynchronous workflow.  Instead of waiting for his opponent, he moves onto another task.  Let's take a moment to consider how much of an improvement this is over a workflow where he plays these games one at a time.\n",
    "\n",
    "#### Playing one opponent at a time (synchronous)\n",
    "\n",
    "Let's say Larry wants to play 12 hobbyists a day and he first plays each game one after the other.  And let's also assume the following.\n",
    "\n",
    "* The average opponent makes 10 moves, and larry makes 10 moves per game\n",
    "* Larry takes 5 seconds to make a move\n",
    "* The average opponent takes 60 seconds to make a move\n",
    "* He plays 12 players\n",
    "\n",
    "Then the average amount of time it will take Larry to play all 10 games sequentially is the following:\n",
    "\n",
    "* Time per game = 10 opponent moves $\\times$ 60 seconds + 10 larry moves $\\times$ 5 seconds = 650 seconds (~11 minutes)\n",
    "\n",
    "* Total time = 650 seconds per game $\\times$ 12 games = 7800 seconds = 2 hours 10 minutes\n",
    "\n",
    "#### Playing multiple opponents (asynchronous)\n",
    "\n",
    "Now let's consider if he plays multiple people at once like we saw in the picture.  Instead of waiting the one minute for player one to decide on each move, Larry can make moves on all of the 12 boards and then be ready cycle through the second move for each opponent.  \n",
    "\n",
    "* Time per full cycle = 12 opponents $\\times$ 5 seconds for larry to think = 1 minute\n",
    "* Assume player is ready by the one minute later he arrives, so larry doesn't have to wait.\n",
    "* Total time = time per cycle  * number of cycles = 1 minute $\\times$ 10 cycles = 10 minutes\n",
    "\n",
    "So instead of this taking Larry two hours, it now takes him just 10 minutes.  The key is that instead of having Larry wait around, we keep him processing while waiting for a task to complete.  And this is what we want our Python interpreter to do -- move onto the next task while it's waiting, and then complete the task when it can."
   ]
  },
  {
   "cell_type": "markdown",
   "id": "2c04c0e0",
   "metadata": {},
   "source": [
    "### Seeing it in Python\n",
    "\n",
    "Ok, so now let's see this analogy into code.  Here's larry, playing one game at a time, not using his time efficiently.  "
   ]
  },
  {
   "cell_type": "markdown",
   "id": "0f3438f1-870b-47ad-94a9-074aa934101e",
   "metadata": {},
   "source": [
    "* This code is located in the `chess_game.py` file."
   ]
  },
  {
   "cell_type": "code",
   "execution_count": 1,
   "id": "f980ceff",
   "metadata": {},
   "outputs": [
    {
     "name": "stdout",
     "output_type": "stream",
     "text": [
      "MORTAL 1 is making MOVE 1 against LARRY\n",
      "LARRY is making MOVE 1 against MORTAL 1\n",
      "MORTAL 1 is making MOVE 2 against LARRY\n",
      "LARRY is making MOVE 2 against MORTAL 1\n",
      "MORTAL 1 is making MOVE 3 against LARRY\n",
      "LARRY is making MOVE 3 against MORTAL 1\n",
      "\n",
      " DONE GAME against mortal 1 \n",
      "\n",
      "\n",
      "MORTAL 2 is making MOVE 1 against LARRY\n",
      "LARRY is making MOVE 1 against MORTAL 2\n",
      "MORTAL 2 is making MOVE 2 against LARRY\n",
      "LARRY is making MOVE 2 against MORTAL 2\n",
      "MORTAL 2 is making MOVE 3 against LARRY\n",
      "LARRY is making MOVE 3 against MORTAL 2\n",
      "\n",
      " DONE GAME against mortal 2 \n",
      "\n",
      "\n",
      "MORTAL 3 is making MOVE 1 against LARRY\n",
      "LARRY is making MOVE 1 against MORTAL 3\n",
      "MORTAL 3 is making MOVE 2 against LARRY\n",
      "LARRY is making MOVE 2 against MORTAL 3\n",
      "MORTAL 3 is making MOVE 3 against LARRY\n",
      "LARRY is making MOVE 3 against MORTAL 3\n",
      "\n",
      " DONE GAME against mortal 3 \n",
      "\n",
      "\n",
      "Total time taken: 9.96 seconds\n"
     ]
    }
   ],
   "source": [
    "import time\n",
    "\n",
    "def make_move(opponent_name, move_number):\n",
    "    time.sleep(1)\n",
    "    print(f'{opponent_name.upper()} is making MOVE {move_number} against LARRY') \n",
    "    time.sleep(.1)\n",
    "    print(f'LARRY is making MOVE {move_number} against {opponent_name.upper()}') \n",
    "    \n",
    "def play_game(opponent_name):\n",
    "    for move_number in range(1, 4):\n",
    "        make_move(opponent_name, move_number)\n",
    "\n",
    "    print(f'\\n DONE GAME against {opponent_name} \\n\\n')\n",
    "\n",
    "start_time = time.time()\n",
    "\n",
    "play_game('mortal 1')\n",
    "play_game('mortal 2')\n",
    "play_game('mortal 3')\n",
    "\n",
    "total_time = time.time() - start_time\n",
    "print(f\"Total time taken: {total_time:.2f} seconds\")"
   ]
  },
  {
   "cell_type": "markdown",
   "id": "63e8a623",
   "metadata": {},
   "source": [
    "So as we can see, even though it only takes larry `.1` seconds to make a move, and he makes a total of 9 moves for .9 seconds, he waits for 9 seconds.  \n",
    "\n",
    "So now, in the `async_chess.py` file, change the code so that while each of larry's opponents is making their move, larry can move onto other games."
   ]
  },
  {
   "cell_type": "code",
   "execution_count": null,
   "id": "4656a572-8662-400f-8b5a-cf62b3e67ce8",
   "metadata": {},
   "outputs": [],
   "source": [
    "import time\n",
    "\n",
    "def make_move(opponent_name, move_number):\n",
    "    time.sleep(1)\n",
    "    print(f'{opponent_name.upper()} is making MOVE {move_number} against LARRY') \n",
    "    time.sleep(.1)\n",
    "    print(f'LARRY is making MOVE {move_number} against {opponent_name.upper()}') \n",
    "    \n",
    "def play_game(opponent_name):\n",
    "    for move_number in range(1, 4):\n",
    "        make_move(opponent_name, move_number)\n",
    "\n",
    "    print(f'\\n DONE GAME against {opponent_name} \\n\\n')\n",
    "\n",
    "start_time = time.time()\n",
    "\n",
    "play_game('mortal 1')\n",
    "play_game('mortal 2')\n",
    "play_game('mortal 3')\n",
    "\n",
    "total_time = time.time() - start_time\n",
    "print(f\"Total time taken: {total_time:.2f} seconds\")"
   ]
  },
  {
   "cell_type": "markdown",
   "id": "a723cbd4",
   "metadata": {},
   "source": [
    "### Resources\n",
    "\n",
    "[Intro to Async Programming](https://medium.com/velotio-perspectives/an-introduction-to-asynchronous-programming-in-python-af0189a88bbb)\n",
    "\n",
    "[Async buildup - event loop](https://www.velotio.com/engineering-blog/async-features-in-python)\n",
    "\n",
    "[Miguel Grinberg Async Python Talk](https://www.youtube.com/watch?v=iG6fr81xHKA&ab_channel=PyCon2017)"
   ]
  },
  {
   "cell_type": "markdown",
   "id": "ecb14e1b",
   "metadata": {},
   "source": [
    "[Jason Brownlee](https://superfastpython.com/python-coroutine/)"
   ]
  }
 ],
 "metadata": {
  "kernelspec": {
   "display_name": "Python 3 (ipykernel)",
   "language": "python",
   "name": "python3"
  },
  "language_info": {
   "codemirror_mode": {
    "name": "ipython",
    "version": 3
   },
   "file_extension": ".py",
   "mimetype": "text/x-python",
   "name": "python",
   "nbconvert_exporter": "python",
   "pygments_lexer": "ipython3",
   "version": "3.9.12"
  }
 },
 "nbformat": 4,
 "nbformat_minor": 5
}
