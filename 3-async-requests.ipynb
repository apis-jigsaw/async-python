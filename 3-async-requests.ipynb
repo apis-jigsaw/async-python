{
 "cells": [
  {
   "cell_type": "code",
   "execution_count": null,
   "id": "04428083-713a-451d-8147-afa263320781",
   "metadata": {},
   "outputs": [],
   "source": []
  },
  {
   "cell_type": "markdown",
   "id": "7cb36cbb-27ee-4296-b178-0161060abe6f",
   "metadata": {},
   "source": [
    "No, you do not need to create a new thread to make an async request in Python. In fact, one of the main benefits of using asynchronous programming with asyncio is that you can handle multiple tasks concurrently without creating multiple threads. Asynchronous programming utilizes a single thread with an event loop that manages and schedules coroutines.\n",
    "\n",
    "To make an async request in Python, you can use an asynchronous HTTP library like aiohttp. Here's an example of making an async request with aiohttp:"
   ]
  },
  {
   "cell_type": "code",
   "execution_count": null,
   "id": "88255960-d4da-4bf8-a93e-51b38ed4f01f",
   "metadata": {},
   "outputs": [],
   "source": [
    "import aiohttp\n",
    "import asyncio\n",
    "\n",
    "async def fetch(url):\n",
    "    async with aiohttp.ClientSession() as session:\n",
    "        async with session.get(url) as response:\n",
    "            return await response.text()\n",
    "\n",
    "async def main():\n",
    "    url = \"https://example.com\"\n",
    "    response_text = await fetch(url)\n",
    "    print(response_text)\n",
    "\n",
    "asyncio.run(main())"
   ]
  },
  {
   "cell_type": "markdown",
   "id": "2a7d041d-e23c-4897-8b6d-1dfd5e345660",
   "metadata": {},
   "source": [
    "In this example, we define a coroutine called fetch that takes a URL as an argument. The aiohttp.ClientSession and the subsequent session.get(url) are both used as asynchronous context managers. The await keyword is used to wait for the response before moving on to the next line. The event loop manages the execution of the fetch coroutine, allowing other tasks to run concurrently while waiting for the HTTP request to complete.\n",
    "\n",
    "Remember, you don't need to create new threads when using asynchronous programming in Python with asyncio. The event loop takes"
   ]
  },
  {
   "cell_type": "markdown",
   "id": "141430f1-7357-40af-9b65-f4c6a8b50fc3",
   "metadata": {},
   "source": [
    "* Also look at grequests"
   ]
  },
  {
   "cell_type": "markdown",
   "id": "15b57bb5-4a1a-4844-a4d8-fe252876c3e7",
   "metadata": {},
   "source": [
    "https://github.com/spyoungtech/grequests"
   ]
  },
  {
   "cell_type": "code",
   "execution_count": null,
   "id": "d734d456-4b6c-48b9-b7ad-4d962144ed92",
   "metadata": {},
   "outputs": [],
   "source": []
  }
 ],
 "metadata": {
  "kernelspec": {
   "display_name": "Python 3 (ipykernel)",
   "language": "python",
   "name": "python3"
  },
  "language_info": {
   "codemirror_mode": {
    "name": "ipython",
    "version": 3
   },
   "file_extension": ".py",
   "mimetype": "text/x-python",
   "name": "python",
   "nbconvert_exporter": "python",
   "pygments_lexer": "ipython3",
   "version": "3.9.12"
  }
 },
 "nbformat": 4,
 "nbformat_minor": 5
}
